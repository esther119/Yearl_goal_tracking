{
 "cells": [
  {
   "cell_type": "code",
   "execution_count": 46,
   "metadata": {},
   "outputs": [],
   "source": [
    "class Node:\n",
    "    def __init__(self, val):\n",
    "        self.val = val\n",
    "        self.children = []\n",
    "\n",
    "def create_tree(edges):\n",
    "    # Create a dictionary to store the nodes\n",
    "    nodes = {}\n",
    "    for edge in edges:\n",
    "        # If the start node doesn't exist, create it\n",
    "        if edge[0] not in nodes:\n",
    "            nodes[edge[0]] = Node(edge[0])\n",
    "        # If the end node doesn't exist, create it\n",
    "        if edge[1] not in nodes:\n",
    "            nodes[edge[1]] = Node(edge[1])\n",
    "        # Add the end node as a child of the start node\n",
    "        nodes[edge[0]].children.append(nodes[edge[1]])\n",
    "    return nodes[edges[0][0]]"
   ]
  },
  {
   "cell_type": "code",
   "execution_count": 47,
   "metadata": {},
   "outputs": [],
   "source": [
    "edges = [[0,1], [1,2], [2,3], [1,3], [1,4]]\n",
    "root = create_tree(edges)"
   ]
  },
  {
   "cell_type": "code",
   "execution_count": 70,
   "metadata": {},
   "outputs": [
    {
     "name": "stdout",
     "output_type": "stream",
     "text": [
      "{0}\n",
      "cur 0 children 1\n",
      "{0, 1}\n",
      "cur 1 children 2\n",
      "{0, 1, 2}\n",
      "cur 2 children 3\n",
      "{0, 1, 2, 3}\n",
      "false 3\n",
      "false 2\n",
      "false 1\n",
      "False\n"
     ]
    }
   ],
   "source": [
    "def valid_tree(root): \n",
    "    visited = set()\n",
    "    cur = root    \n",
    "    visited.add(cur.val)\n",
    "\n",
    "    def dfs(cur): \n",
    "        print(visited)\n",
    "        if cur.children:\n",
    "            for children in cur.children: \n",
    "                print( 'cur', cur.val, 'children', children.val)\n",
    "                if children.val not in visited: \n",
    "                    visited.add(children.val)\n",
    "                    dfs(children)\n",
    "                if children.val in visited: #why can't I use \"else\" here?\n",
    "                    print('false', children.val)\n",
    "                    return False\n",
    "        return True        \n",
    "    return dfs(cur) \n",
    "        \n",
    "\n",
    "print(valid_tree(root))"
   ]
  },
  {
   "cell_type": "code",
   "execution_count": null,
   "metadata": {},
   "outputs": [],
   "source": [
    "def validTree(self, n: int, edges: List[List[int]]) -> bool:\n",
    "    \n",
    "    if len(edges) != n - 1: return False\n",
    "    \n",
    "    adj_list = [[] for _ in range(n)]\n",
    "    for A, B in edges:\n",
    "        adj_list[A].append(B)\n",
    "        adj_list[B].append(A)\n",
    "    \n",
    "    seen = set()\n",
    "    \n",
    "    def dfs(node, parent):\n",
    "        if node in seen: return;\n",
    "        seen.add(node)\n",
    "        for neighbour in adj_list[node]:\n",
    "            if neighbour == parent:\n",
    "                continue\n",
    "            if neighbour in seen:\n",
    "                return False\n",
    "    "
   ]
  }
 ],
 "metadata": {
  "kernelspec": {
   "display_name": "Python 3",
   "language": "python",
   "name": "python3"
  },
  "language_info": {
   "codemirror_mode": {
    "name": "ipython",
    "version": 3
   },
   "file_extension": ".py",
   "mimetype": "text/x-python",
   "name": "python",
   "nbconvert_exporter": "python",
   "pygments_lexer": "ipython3",
   "version": "3.9.1 (v3.9.1:1e5d33e9b9, Dec  7 2020, 12:10:52) \n[Clang 6.0 (clang-600.0.57)]"
  },
  "orig_nbformat": 4,
  "vscode": {
   "interpreter": {
    "hash": "aee8b7b246df8f9039afb4144a1f6fd8d2ca17a180786b69acc140d282b71a49"
   }
  }
 },
 "nbformat": 4,
 "nbformat_minor": 2
}
