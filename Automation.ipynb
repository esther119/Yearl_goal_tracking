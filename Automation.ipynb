{
 "cells": [
  {
   "cell_type": "code",
   "execution_count": 6,
   "metadata": {},
   "outputs": [
    {
     "ename": "ModuleNotFoundError",
     "evalue": "No module named 'EventKit'",
     "output_type": "error",
     "traceback": [
      "\u001b[0;31m---------------------------------------------------------------------------\u001b[0m",
      "\u001b[0;31mModuleNotFoundError\u001b[0m                       Traceback (most recent call last)",
      "Cell \u001b[0;32mIn[6], line 7\u001b[0m\n\u001b[1;32m      5\u001b[0m \u001b[39mfrom\u001b[39;00m \u001b[39mFoundation\u001b[39;00m \u001b[39mimport\u001b[39;00m \u001b[39m*\u001b[39m\n\u001b[1;32m      6\u001b[0m \u001b[39m# import EventKit\u001b[39;00m\n\u001b[0;32m----> 7\u001b[0m \u001b[39mfrom\u001b[39;00m \u001b[39mEventKit\u001b[39;00m \u001b[39mimport\u001b[39;00m \u001b[39m*\u001b[39m\n",
      "\u001b[0;31mModuleNotFoundError\u001b[0m: No module named 'EventKit'"
     ]
    }
   ],
   "source": [
    "import sys\n",
    "sys.path.append('/Users/swimmingcircle/opt/anaconda3/envs/conda_c/lib/python3.10/site-packages/pyobjc-framework-EventKit')\n",
    "# sys.path.append('/Users/swimmingcircle/opt/anaconda3/envs/conda_c/lib/python3.10/site-packages/pyobjc-core')\n",
    "# import pyobjc_framework_EventKit\n",
    "from Foundation import *\n",
    "import EventKit\n",
    "# from EventKit import *\n",
    "# from pyobjc_framework_EventKit import *\n",
    "\n",
    "\n",
    "# from pyobjc-framework-EventKit import *\n",
    "# from pyobjc-framework-eventkit import *\n",
    "# from pyobjc_framework_Cocoa import *\n",
    "\n",
    "\n"
   ]
  },
  {
   "cell_type": "code",
   "execution_count": 1,
   "metadata": {},
   "outputs": [
    {
     "ename": "NameError",
     "evalue": "name 'EKEventStore' is not defined",
     "output_type": "error",
     "traceback": [
      "\u001b[0;31m---------------------------------------------------------------------------\u001b[0m",
      "\u001b[0;31mNameError\u001b[0m                                 Traceback (most recent call last)",
      "Cell \u001b[0;32mIn[1], line 2\u001b[0m\n\u001b[1;32m      1\u001b[0m \u001b[39m# create an instance of the Event Store\u001b[39;00m\n\u001b[0;32m----> 2\u001b[0m event_store \u001b[39m=\u001b[39m EKEventStore\u001b[39m.\u001b[39malloc()\u001b[39m.\u001b[39minit()\n\u001b[1;32m      4\u001b[0m \u001b[39m# get all events in the calendar\u001b[39;00m\n\u001b[1;32m      5\u001b[0m events \u001b[39m=\u001b[39m event_store\u001b[39m.\u001b[39meventsMatchingPredicate_(event_store\u001b[39m.\u001b[39mpredicateForEventsWithStartDate_endDate_calendars_(NSDate\u001b[39m.\u001b[39mdate(), NSDate\u001b[39m.\u001b[39mdistantFuture(), \u001b[39mNone\u001b[39;00m))\n",
      "\u001b[0;31mNameError\u001b[0m: name 'EKEventStore' is not defined"
     ]
    }
   ],
   "source": [
    "# create an instance of the Event Store\n",
    "event_store = EKEventStore.alloc().init()\n",
    "\n",
    "# get all events in the calendar\n",
    "events = event_store.eventsMatchingPredicate_(event_store.predicateForEventsWithStartDate_endDate_calendars_(NSDate.date(), NSDate.distantFuture(), None))\n",
    "\n",
    "# print the events\n",
    "for event in events:\n",
    "    print(event.title())"
   ]
  },
  {
   "cell_type": "code",
   "execution_count": 6,
   "metadata": {},
   "outputs": [],
   "source": [
    "import numpy"
   ]
  },
  {
   "cell_type": "code",
   "execution_count": null,
   "metadata": {},
   "outputs": [],
   "source": []
  }
 ],
 "metadata": {
  "kernelspec": {
   "display_name": "conda_c",
   "language": "python",
   "name": "python3"
  },
  "language_info": {
   "codemirror_mode": {
    "name": "ipython",
    "version": 3
   },
   "file_extension": ".py",
   "mimetype": "text/x-python",
   "name": "python",
   "nbconvert_exporter": "python",
   "pygments_lexer": "ipython3",
   "version": "3.10.9 (main, Jan 11 2023, 09:18:20) [Clang 14.0.6 ]"
  },
  "orig_nbformat": 4,
  "vscode": {
   "interpreter": {
    "hash": "537c38dc6aa0112a8a14e691beb736aa4caf12763255772799d7c972e7b0d6bf"
   }
  }
 },
 "nbformat": 4,
 "nbformat_minor": 2
}
